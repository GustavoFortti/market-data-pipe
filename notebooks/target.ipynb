{
 "cells": [
  {
   "cell_type": "code",
   "execution_count": 1,
   "id": "d818c249",
   "metadata": {},
   "outputs": [],
   "source": [
    "import pandas as pd\n",
    "import matplotlib.pyplot as plt\n",
    "from statsmodels.graphics.tsaplots import plot_acf\n",
    "import seaborn as sns\n",
    "import yfinance as yf\n",
    "from sklearn.preprocessing import StandardScaler"
   ]
  },
  {
   "cell_type": "code",
   "execution_count": 93,
   "id": "07eaeeec",
   "metadata": {},
   "outputs": [],
   "source": [
    "df = yf.Ticker('XOM').history(period=\"max\", interval='1wk')\n",
    "# df['Close_dif'] = df['Close'].diff()\n",
    "df = df.dropna().iloc[:, :4]\n",
    "for i in df.columns: df = df[df[i] != 0]"
   ]
  },
  {
   "cell_type": "code",
   "execution_count": 4,
   "id": "63782494",
   "metadata": {},
   "outputs": [
    {
     "data": {
      "text/html": [
       "<div>\n",
       "<style scoped>\n",
       "    .dataframe tbody tr th:only-of-type {\n",
       "        vertical-align: middle;\n",
       "    }\n",
       "\n",
       "    .dataframe tbody tr th {\n",
       "        vertical-align: top;\n",
       "    }\n",
       "\n",
       "    .dataframe thead th {\n",
       "        text-align: right;\n",
       "    }\n",
       "</style>\n",
       "<table border=\"1\" class=\"dataframe\">\n",
       "  <thead>\n",
       "    <tr style=\"text-align: right;\">\n",
       "      <th></th>\n",
       "      <th>Open</th>\n",
       "      <th>Close</th>\n",
       "      <th>High</th>\n",
       "      <th>Low</th>\n",
       "      <th>Volume</th>\n",
       "      <th>Close_Ema_5</th>\n",
       "      <th>High_Ema_5</th>\n",
       "      <th>Low_Ema_5</th>\n",
       "      <th>Open_Ema_5</th>\n",
       "      <th>Close_Ema_9</th>\n",
       "      <th>...</th>\n",
       "      <th>momentum_ppo_diff</th>\n",
       "      <th>momentum_ppo_signal_diff</th>\n",
       "      <th>momentum_ppo_hist_diff</th>\n",
       "      <th>others_dr_diff</th>\n",
       "      <th>others_dlr_diff</th>\n",
       "      <th>others_cr_diff</th>\n",
       "      <th>target_1</th>\n",
       "      <th>target_2</th>\n",
       "      <th>target_3</th>\n",
       "      <th>target_4</th>\n",
       "    </tr>\n",
       "    <tr>\n",
       "      <th>Date</th>\n",
       "      <th></th>\n",
       "      <th></th>\n",
       "      <th></th>\n",
       "      <th></th>\n",
       "      <th></th>\n",
       "      <th></th>\n",
       "      <th></th>\n",
       "      <th></th>\n",
       "      <th></th>\n",
       "      <th></th>\n",
       "      <th></th>\n",
       "      <th></th>\n",
       "      <th></th>\n",
       "      <th></th>\n",
       "      <th></th>\n",
       "      <th></th>\n",
       "      <th></th>\n",
       "      <th></th>\n",
       "      <th></th>\n",
       "      <th></th>\n",
       "      <th></th>\n",
       "    </tr>\n",
       "  </thead>\n",
       "  <tbody>\n",
       "    <tr>\n",
       "      <th>1970-05-26</th>\n",
       "      <td>-0.907448</td>\n",
       "      <td>-0.907489</td>\n",
       "      <td>-0.908267</td>\n",
       "      <td>-0.906586</td>\n",
       "      <td>-0.855470</td>\n",
       "      <td>-0.907347</td>\n",
       "      <td>-0.908112</td>\n",
       "      <td>-0.906446</td>\n",
       "      <td>-0.907258</td>\n",
       "      <td>-0.907199</td>\n",
       "      <td>...</td>\n",
       "      <td>0.909911</td>\n",
       "      <td>0.660788</td>\n",
       "      <td>0.807966</td>\n",
       "      <td>1.229307</td>\n",
       "      <td>1.347530</td>\n",
       "      <td>-0.008959</td>\n",
       "      <td>-0.017012</td>\n",
       "      <td>-0.009411</td>\n",
       "      <td>-0.006769</td>\n",
       "      <td>-0.011675</td>\n",
       "    </tr>\n",
       "    <tr>\n",
       "      <th>1970-05-27</th>\n",
       "      <td>-0.907433</td>\n",
       "      <td>-0.907262</td>\n",
       "      <td>-0.908117</td>\n",
       "      <td>-0.906556</td>\n",
       "      <td>-0.834368</td>\n",
       "      <td>-0.907295</td>\n",
       "      <td>-0.908079</td>\n",
       "      <td>-0.906457</td>\n",
       "      <td>-0.907291</td>\n",
       "      <td>-0.907175</td>\n",
       "      <td>...</td>\n",
       "      <td>0.987201</td>\n",
       "      <td>1.085886</td>\n",
       "      <td>0.720278</td>\n",
       "      <td>1.466207</td>\n",
       "      <td>1.557218</td>\n",
       "      <td>0.001668</td>\n",
       "      <td>-0.009411</td>\n",
       "      <td>-0.006769</td>\n",
       "      <td>-0.011675</td>\n",
       "      <td>-0.015551</td>\n",
       "    </tr>\n",
       "    <tr>\n",
       "      <th>1970-05-28</th>\n",
       "      <td>-0.907160</td>\n",
       "      <td>-0.907020</td>\n",
       "      <td>-0.907907</td>\n",
       "      <td>-0.906282</td>\n",
       "      <td>-0.671671</td>\n",
       "      <td>-0.907179</td>\n",
       "      <td>-0.907988</td>\n",
       "      <td>-0.906374</td>\n",
       "      <td>-0.907223</td>\n",
       "      <td>-0.907107</td>\n",
       "      <td>...</td>\n",
       "      <td>2.878268</td>\n",
       "      <td>2.493335</td>\n",
       "      <td>2.385013</td>\n",
       "      <td>0.042622</td>\n",
       "      <td>0.047803</td>\n",
       "      <td>0.002427</td>\n",
       "      <td>-0.006769</td>\n",
       "      <td>-0.011675</td>\n",
       "      <td>-0.015551</td>\n",
       "      <td>-0.018136</td>\n",
       "    </tr>\n",
       "  </tbody>\n",
       "</table>\n",
       "<p>3 rows × 306 columns</p>\n",
       "</div>"
      ],
      "text/plain": [
       "                Open     Close      High       Low    Volume  Close_Ema_5  \\\n",
       "Date                                                                        \n",
       "1970-05-26 -0.907448 -0.907489 -0.908267 -0.906586 -0.855470    -0.907347   \n",
       "1970-05-27 -0.907433 -0.907262 -0.908117 -0.906556 -0.834368    -0.907295   \n",
       "1970-05-28 -0.907160 -0.907020 -0.907907 -0.906282 -0.671671    -0.907179   \n",
       "\n",
       "            High_Ema_5  Low_Ema_5  Open_Ema_5  Close_Ema_9  ...  \\\n",
       "Date                                                        ...   \n",
       "1970-05-26   -0.908112  -0.906446   -0.907258    -0.907199  ...   \n",
       "1970-05-27   -0.908079  -0.906457   -0.907291    -0.907175  ...   \n",
       "1970-05-28   -0.907988  -0.906374   -0.907223    -0.907107  ...   \n",
       "\n",
       "            momentum_ppo_diff  momentum_ppo_signal_diff  \\\n",
       "Date                                                      \n",
       "1970-05-26           0.909911                  0.660788   \n",
       "1970-05-27           0.987201                  1.085886   \n",
       "1970-05-28           2.878268                  2.493335   \n",
       "\n",
       "            momentum_ppo_hist_diff  others_dr_diff  others_dlr_diff  \\\n",
       "Date                                                                  \n",
       "1970-05-26                0.807966        1.229307         1.347530   \n",
       "1970-05-27                0.720278        1.466207         1.557218   \n",
       "1970-05-28                2.385013        0.042622         0.047803   \n",
       "\n",
       "            others_cr_diff  target_1  target_2  target_3  target_4  \n",
       "Date                                                                \n",
       "1970-05-26       -0.008959 -0.017012 -0.009411 -0.006769 -0.011675  \n",
       "1970-05-27        0.001668 -0.009411 -0.006769 -0.011675 -0.015551  \n",
       "1970-05-28        0.002427 -0.006769 -0.011675 -0.015551 -0.018136  \n",
       "\n",
       "[3 rows x 306 columns]"
      ]
     },
     "execution_count": 4,
     "metadata": {},
     "output_type": "execute_result"
    }
   ],
   "source": [
    "df = pd.read_csv('../data/premodel/XOM/1-set/time_ahead_1/data_scaler/df.csv')\n",
    "df = df.set_index('Date')\n",
    "target = pd.read_csv('../data/premodel/XOM/1-set/time_ahead_1/data_scaler/target.csv')\n",
    "df['target_1'] = target['Close_Ema_5_diff'].values\n",
    "df = df.iloc[:-1, :]\n",
    "target = pd.read_csv('../data/premodel/XOM/1-set/time_ahead_2/data_scaler/target.csv')\n",
    "df['target_2'] = target['Close_Ema_5_diff'].values\n",
    "df = df.iloc[:-1, :]\n",
    "target = pd.read_csv('../data/premodel/XOM/1-set/time_ahead_3/data_scaler/target.csv')\n",
    "df['target_3'] = target['Close_Ema_5_diff'].values\n",
    "df = df.iloc[:-1, :]\n",
    "target = pd.read_csv('../data/premodel/XOM/1-set/time_ahead_4/data_scaler/target.csv')\n",
    "df['target_4'] = target['Close_Ema_5_diff'].values\n",
    "df.head(3)"
   ]
  },
  {
   "cell_type": "code",
   "execution_count": 21,
   "id": "ca94cd97",
   "metadata": {},
   "outputs": [
    {
     "data": {
      "image/png": "[encoded data removed]",
      "text/plain": [
       "<Figure size 432x288 with 1 Axes>"
      ]
     },
     "metadata": {
      "needs_background": "light"
     },
     "output_type": "display_data"
    },
    {
     "name": "stdout",
     "output_type": "stream",
     "text": [
      "count    12993.000000\n",
      "mean         0.000648\n",
      "std          1.003131\n",
      "min        -12.664792\n",
      "25%         -0.092077\n",
      "50%         -0.019866\n",
      "75%          0.142560\n",
      "max          7.884919\n",
      "Name: Close_Ema_5_diff, dtype: float64\n"
     ]
    },
    {
     "data": {
      "text/plain": [
       "[<matplotlib.lines.Line2D at 0x7f372e8e3280>]"
      ]
     },
     "execution_count": 21,
     "metadata": {},
     "output_type": "execute_result"
    },
    {
     "data": {
      "image/png": "[encoded data removed]",
      "text/plain": [
       "<Figure size 432x288 with 1 Axes>"
      ]
     },
     "metadata": {
      "needs_background": "light"
     },
     "output_type": "display_data"
    }
   ],
   "source": [
    "plot_acf(df['Close_Ema_5_diff'])\n",
    "plt.show()\n",
    "# print(df.corr()['Close_Ema_5_diff'].sort_values())\n",
    "print(df['Close_Ema_5_diff'].describe())\n",
    "# df['Close_Ema_5_diff'].hist()\n",
    "plt.plot(df['Close_Ema_5_diff'].values)"
   ]
  },
  {
   "cell_type": "code",
   "execution_count": 24,
   "id": "feec8593",
   "metadata": {},
   "outputs": [
    {
     "data": {
      "image/png": "[encoded data removed]",
      "text/plain": [
       "<Figure size 432x288 with 1 Axes>"
      ]
     },
     "metadata": {
      "needs_background": "light"
     },
     "output_type": "display_data"
    },
    {
     "data": {
      "text/plain": [
       "count    12993.000000\n",
       "mean         0.006486\n",
       "std          1.000455\n",
       "min         -0.907489\n",
       "25%         -0.874505\n",
       "50%         -0.527235\n",
       "75%          0.897540\n",
       "max          2.174612\n",
       "Name: Close, dtype: float64"
      ]
     },
     "execution_count": 24,
     "metadata": {},
     "output_type": "execute_result"
    },
    {
     "data": {
      "image/png": "[encoded data removed]",
      "text/plain": [
       "<Figure size 432x288 with 1 Axes>"
      ]
     },
     "metadata": {
      "needs_background": "light"
     },
     "output_type": "display_data"
    }
   ],
   "source": [
    "plot_acf(df['Close'])\n",
    "plt.show()\n",
    "df.corr()['Close'].sort_values()\n",
    "df['Close'].hist()\n",
    "plt.plot(df['Close'].values)\n",
    "df['Close'].describe()"
   ]
  },
  {
   "cell_type": "code",
   "execution_count": 6,
   "id": "78f75f78",
   "metadata": {},
   "outputs": [
    {
     "data": {
      "text/plain": [
       "Close_Ema_5_diff    1.000000\n",
       "target_1            0.605201\n",
       "target_2            0.376392\n",
       "target_3            0.248491\n",
       "target_4            0.161804\n",
       "Name: Close_Ema_5_diff, dtype: float64"
      ]
     },
     "execution_count": 6,
     "metadata": {},
     "output_type": "execute_result"
    }
   ],
   "source": [
    "df.loc[:, ['Close_Ema_5_diff', 'target_1', 'target_2', 'target_3', 'target_4']].corr()['Close_Ema_5_diff']"
   ]
  },
  {
   "cell_type": "code",
   "execution_count": 8,
   "id": "90f3585a",
   "metadata": {},
   "outputs": [],
   "source": [
    "# plt.figure(figsize=(8, 6), dpi=80)\n",
    "# sns.lineplot(data=df.iloc[1200:, :], y='Close_diff', x='Date')\n",
    "# sns.lineplot(data=df.iloc[1200:, :], y='Close', x='Date')"
   ]
  }
 ],
 "metadata": {
  "interpreter": {
   "hash": "bc19a77e47830d6d40bea1d14b929bb00f257b9e2d6518506b51f3195c9c3d0a"
  },
  "kernelspec": {
   "display_name": "Python 3.8.8 64-bit ('base': conda)",
   "language": "python",
   "name": "python3"
  },
  "language_info": {
   "codemirror_mode": {
    "name": "ipython",
    "version": 3
   },
   "file_extension": ".py",
   "mimetype": "text/x-python",
   "name": "python",
   "nbconvert_exporter": "python",
   "pygments_lexer": "ipython3",
   "version": "3.8.10"
  }
 },
 "nbformat": 4,
 "nbformat_minor": 5
}
